{
 "cells": [
  {
   "cell_type": "code",
   "execution_count": 2,
   "metadata": {},
   "outputs": [
    {
     "ename": "ModuleNotFoundError",
     "evalue": "No module named 'PoseModule'",
     "output_type": "error",
     "traceback": [
      "\u001b[1;31m---------------------------------------------------------------------------\u001b[0m",
      "\u001b[1;31mModuleNotFoundError\u001b[0m                       Traceback (most recent call last)",
      "\u001b[1;32m<ipython-input-2-ffde5f19a7a2>\u001b[0m in \u001b[0;36m<module>\u001b[1;34m\u001b[0m\n\u001b[0;32m      1\u001b[0m \u001b[1;32mimport\u001b[0m \u001b[0mnumpy\u001b[0m \u001b[1;32mas\u001b[0m \u001b[0mnp\u001b[0m\u001b[1;33m\u001b[0m\u001b[1;33m\u001b[0m\u001b[0m\n\u001b[0;32m      2\u001b[0m \u001b[1;32mimport\u001b[0m \u001b[0mtime\u001b[0m\u001b[1;33m\u001b[0m\u001b[1;33m\u001b[0m\u001b[0m\n\u001b[1;32m----> 3\u001b[1;33m \u001b[1;32mimport\u001b[0m \u001b[0mPoseModule\u001b[0m \u001b[1;32mas\u001b[0m \u001b[0mpm\u001b[0m\u001b[1;33m\u001b[0m\u001b[1;33m\u001b[0m\u001b[0m\n\u001b[0m\u001b[0;32m      4\u001b[0m \u001b[1;32mimport\u001b[0m \u001b[0mcv2\u001b[0m\u001b[1;33m\u001b[0m\u001b[1;33m\u001b[0m\u001b[0m\n\u001b[0;32m      5\u001b[0m \u001b[1;33m\u001b[0m\u001b[0m\n",
      "\u001b[1;31mModuleNotFoundError\u001b[0m: No module named 'PoseModule'"
     ]
    },
    {
     "name": "stderr",
     "output_type": "stream",
     "text": [
      "Backing off send_request(...) for 463.1s (requests.exceptions.SSLError: HTTPSConnectionPool(host='api.segment.io', port=443): Max retries exceeded with url: /v1/batch (Caused by SSLError(SSLCertVerificationError(1, '[SSL: CERTIFICATE_VERIFY_FAILED] certificate verify failed: unable to get local issuer certificate (_ssl.c:1124)'))))\n"
     ]
    }
   ],
   "source": [
    "import numpy as np\n",
    "import time\n",
    "import PoseModule as pm\n",
    "import cv2\n",
    " \n",
    "cap = cv2.VideoCapture(\"testing/sumitra_bhuj.mp4\")\n",
    " \n",
    "detector = pm.poseDetector()\n",
    "count = 0\n",
    "dir = 0\n",
    "pTime = 0\n",
    "while True:\n",
    "    success, img = cap.read()\n",
    "    img = cv2.resize(img, (1280, 720))\n",
    "    # img = cv2.imread(\"AiTrainer/test.jpg\")\n",
    "    img = detector.findPose(img, False)\n",
    "    lmList = detector.findPosition(img, False)\n",
    "    # print(lmList)\n",
    "    if len(lmList) != 0:\n",
    "        # Right Arm\n",
    "        angle = detector.findAngle(img, 12, 24, 26)\n",
    "        # # Left Arm\n",
    "        #angle = detector.findAngle(img, 11, 13, 15,False)\n",
    "        per = np.interp(angle, (210, 310), (0, 100))\n",
    "        bar = np.interp(angle, (220, 310), (650, 100))\n",
    "        # print(angle, per)\n",
    " \n",
    "        # Check for the dumbbell curls\n",
    "        color = (255, 0, 255)\n",
    "        if per == 100:\n",
    "            color = (0, 255, 0)\n",
    "            if dir == 0:\n",
    "                count += 0.5\n",
    "                dir = 1\n",
    "        if per == 0:\n",
    "            color = (0, 255, 0)\n",
    "            if dir == 1:\n",
    "                count += 0.5\n",
    "                dir = 0\n",
    "        print(count)\n",
    " \n",
    "        # Draw Bar\n",
    "        cv2.rectangle(img, (1100, 100), (1175, 650), color, 3)\n",
    "        cv2.rectangle(img, (1100, int(bar)), (1175, 650), color, cv2.FILLED)\n",
    "        cv2.putText(img, f'{int(per)} %', (1100, 75), cv2.FONT_HERSHEY_PLAIN, 4,\n",
    "                    color, 4)\n",
    " \n",
    "        # Draw Curl Count\n",
    "        cv2.rectangle(img, (0, 450), (250, 720), (0, 255, 0), cv2.FILLED)\n",
    "        cv2.putText(img, str(int(count)), (45, 670), cv2.FONT_HERSHEY_PLAIN, 15,\n",
    "                    (255, 0, 0), 25)\n",
    " \n",
    "    cTime = time.time()\n",
    "    fps = 1 / (cTime - pTime)\n",
    "    pTime = cTime\n",
    "    cv2.putText(img, str(int(fps)), (50, 100), cv2.FONT_HERSHEY_PLAIN, 5,\n",
    "                (255, 0, 0), 5)\n",
    " \n",
    "    cv2.imshow(\"Image\", img)\n",
    "    cv2.waitKey(1)"
   ]
  },
  {
   "cell_type": "code",
   "execution_count": null,
   "metadata": {},
   "outputs": [],
   "source": []
  }
 ],
 "metadata": {
  "kernelspec": {
   "display_name": "Python 3",
   "language": "python",
   "name": "python3"
  },
  "language_info": {
   "codemirror_mode": {
    "name": "ipython",
    "version": 3
   },
   "file_extension": ".py",
   "mimetype": "text/x-python",
   "name": "python",
   "nbconvert_exporter": "python",
   "pygments_lexer": "ipython3",
   "version": "3.8.6rc1"
  }
 },
 "nbformat": 4,
 "nbformat_minor": 4
}
