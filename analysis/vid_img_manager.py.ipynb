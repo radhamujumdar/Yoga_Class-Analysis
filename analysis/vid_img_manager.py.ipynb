{
 "cells": [
  {
   "cell_type": "code",
   "execution_count": 1,
   "metadata": {},
   "outputs": [
    {
     "ename": "ModuleNotFoundError",
     "evalue": "No module named 'pose_estimator'",
     "output_type": "error",
     "traceback": [
      "\u001b[1;31m---------------------------------------------------------------------------\u001b[0m",
      "\u001b[1;31mModuleNotFoundError\u001b[0m                       Traceback (most recent call last)",
      "\u001b[1;32m<ipython-input-1-64871fe732dd>\u001b[0m in \u001b[0;36m<module>\u001b[1;34m\u001b[0m\n\u001b[0;32m      1\u001b[0m \u001b[1;32mimport\u001b[0m \u001b[0mcv2\u001b[0m \u001b[1;32mas\u001b[0m \u001b[0mcv\u001b[0m\u001b[1;33m\u001b[0m\u001b[1;33m\u001b[0m\u001b[0m\n\u001b[1;32m----> 2\u001b[1;33m \u001b[1;32mfrom\u001b[0m \u001b[0mpose_estimator\u001b[0m \u001b[1;32mimport\u001b[0m \u001b[0mPoseEstimator\u001b[0m\u001b[1;33m\u001b[0m\u001b[1;33m\u001b[0m\u001b[0m\n\u001b[0m\u001b[0;32m      3\u001b[0m \u001b[1;32mfrom\u001b[0m \u001b[0mframe_operations\u001b[0m \u001b[1;32mimport\u001b[0m \u001b[0mFrameOperations\u001b[0m\u001b[1;33m\u001b[0m\u001b[1;33m\u001b[0m\u001b[0m\n\u001b[0;32m      4\u001b[0m \u001b[1;33m\u001b[0m\u001b[0m\n\u001b[0;32m      5\u001b[0m \u001b[1;32mclass\u001b[0m \u001b[0mVideoImgManager\u001b[0m\u001b[1;33m(\u001b[0m\u001b[1;33m)\u001b[0m\u001b[1;33m:\u001b[0m\u001b[1;33m\u001b[0m\u001b[1;33m\u001b[0m\u001b[0m\n",
      "\u001b[1;31mModuleNotFoundError\u001b[0m: No module named 'pose_estimator'"
     ]
    },
    {
     "name": "stderr",
     "output_type": "stream",
     "text": [
      "Backing off send_request(...) for 220.2s (requests.exceptions.SSLError: HTTPSConnectionPool(host='api.segment.io', port=443): Max retries exceeded with url: /v1/batch (Caused by SSLError(SSLCertVerificationError(1, '[SSL: CERTIFICATE_VERIFY_FAILED] certificate verify failed: unable to get local issuer certificate (_ssl.c:1124)'))))\n",
      "Giving up send_request(...) after 11 tries (requests.exceptions.SSLError: HTTPSConnectionPool(host='api.segment.io', port=443): Max retries exceeded with url: /v1/batch (Caused by SSLError(SSLCertVerificationError(1, '[SSL: CERTIFICATE_VERIFY_FAILED] certificate verify failed: unable to get local issuer certificate (_ssl.c:1124)'))))\n",
      "error uploading: HTTPSConnectionPool(host='api.segment.io', port=443): Max retries exceeded with url: /v1/batch (Caused by SSLError(SSLCertVerificationError(1, '[SSL: CERTIFICATE_VERIFY_FAILED] certificate verify failed: unable to get local issuer certificate (_ssl.c:1124)')))\n"
     ]
    }
   ],
   "source": [
    "import cv2 as cv\n",
    "from pose_estimator import PoseEstimator\n",
    "from frame_operations import FrameOperations\n",
    "\n",
    "class VideoImgManager():\n",
    "\n",
    "    def __init__(self):\n",
    "        self.POSE_ESTIMATOR = PoseEstimator()\n",
    "        self.FRAME_OPS = FrameOperations()\n",
    "\n",
    "        self.FIRST = True\n",
    "\n",
    "    def estimate_vid(self,webcam_id=0):\n",
    "        \"\"\"reads webcam, applies pose estimation on webcam\"\"\"\n",
    "        cap = cv.VideoCapture(webcam_id)\n",
    "\n",
    "        while(True):\n",
    "            has_frame, frame = cap.read()\n",
    "\n",
    "            if self.FIRST:\n",
    "                self.WEB_CAM_H,self.WEB_CAM_W = frame.shape[0:2]\n",
    "                self.FIRST = False\n",
    "\n",
    "            frame = self.POSE_ESTIMATOR.get_pose_key_angles(frame)\n",
    "\n",
    "            cv.imshow('frame',frame)\n",
    "            if cv.waitKey(1) & 0xFF == ord('q'):\n",
    "                break\n",
    "    \n",
    "    def estimate_img(self,img_path):\n",
    "        \"\"\"applies pose estimation on img\"\"\"\n",
    "\n",
    "        img = cv.imread(img_path)\n",
    "\n",
    "        img = self.POSE_ESTIMATOR.get_pose_key_angles(img)\n",
    "\n",
    "\n",
    "        cv.imshow(\"Image Pose Estimation\",img)\n",
    "\n",
    "        cv.waitKey(0)\n",
    "        cv.destroyAllWindows()"
   ]
  },
  {
   "cell_type": "code",
   "execution_count": null,
   "metadata": {},
   "outputs": [],
   "source": []
  }
 ],
 "metadata": {
  "kernelspec": {
   "display_name": "Python 3",
   "language": "python",
   "name": "python3"
  },
  "language_info": {
   "codemirror_mode": {
    "name": "ipython",
    "version": 3
   },
   "file_extension": ".py",
   "mimetype": "text/x-python",
   "name": "python",
   "nbconvert_exporter": "python",
   "pygments_lexer": "ipython3",
   "version": "3.8.6rc1"
  }
 },
 "nbformat": 4,
 "nbformat_minor": 4
}
