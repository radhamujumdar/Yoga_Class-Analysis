{
 "cells": [
  {
   "cell_type": "code",
   "execution_count": null,
   "metadata": {},
   "outputs": [],
   "source": [
    "\n",
    "from vid_img_manager import VideoImgManager\n",
    "import os\n",
    "\n",
    "class Main():\n",
    "\n",
    "    def __init__(self):\n",
    "        self.VI_M = VideoImgManager()\n",
    "\n",
    "    def img_estimation(self,img_path):\n",
    "        self.VI_M.estimate_img(img_path)\n",
    "\n",
    "    def live_estimation(self,webcam_id=0):\n",
    "        self.VI_M.estimate_vid(webcam_id)\n",
    "\n",
    "if __name__ == \"__main__\":\n",
    "    app = Main()\n",
    "    app.img_estimation(\"he_did_it.png\")\n",
    "    #app.live_estimation(0)"
   ]
  }
 ],
 "metadata": {
  "kernelspec": {
   "display_name": "Python 3",
   "language": "python",
   "name": "python3"
  },
  "language_info": {
   "codemirror_mode": {
    "name": "ipython",
    "version": 3
   },
   "file_extension": ".py",
   "mimetype": "text/x-python",
   "name": "python",
   "nbconvert_exporter": "python",
   "pygments_lexer": "ipython3",
   "version": "3.8.6rc1"
  }
 },
 "nbformat": 4,
 "nbformat_minor": 4
}
