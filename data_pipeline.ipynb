{
 "cells": [
  {
   "cell_type": "code",
   "execution_count": 5,
   "metadata": {},
   "outputs": [],
   "source": [
    "import os\n",
    "from PIL import Image"
   ]
  },
  {
   "cell_type": "code",
   "execution_count": 2,
   "metadata": {},
   "outputs": [
    {
     "data": {
      "text/plain": [
       "['Bhujangasana',\n",
       " 'Padamasana',\n",
       " 'Shavasana',\n",
       " 'Tadasana',\n",
       " 'Trikonasana',\n",
       " 'Vrikshasana']"
      ]
     },
     "execution_count": 2,
     "metadata": {},
     "output_type": "execute_result"
    }
   ],
   "source": [
    "class_list = os.listdir('dataset/')\n",
    "class_list"
   ]
  },
  {
   "cell_type": "code",
   "execution_count": 8,
   "metadata": {},
   "outputs": [
    {
     "name": "stdout",
     "output_type": "stream",
     "text": [
      "('abhay_bhuj', 0)\n",
      "('ameya_bhuj', 0)\n",
      "('bhumi_bhuj', 0)\n",
      "('deepa_bhuj', 0)\n",
      "('dristi_bhuj', 0)\n",
      "('harshav_bhuj', 0)\n",
      "('kaustuk_bhuj', 0)\n",
      "('lakshmi_bhuj', 0)\n",
      "('piyush_bhuj', 0)\n",
      "('pranshul_bhuj', 0)\n",
      "('rakesh_bhuj', 0)\n",
      "('santosh_bhuj', 0)\n",
      "('santosh_bhuj2', 0)\n",
      "('sarthak_bhuj', 0)\n",
      "('shiv_bhuj', 0)\n",
      "('veena_bhuj', 0)\n",
      "('abhay_padam', 1)\n",
      "('ameya_padam', 1)\n",
      "('bhumi_padam', 1)\n",
      "('deepa_padam', 1)\n",
      "('dristi_padam', 1)\n",
      "('harshav_padam', 1)\n",
      "('kaustuk_padam', 1)\n",
      "('lakshmi_padam', 1)\n",
      "('piyush_padam', 1)\n",
      "('rakesh_padam', 1)\n",
      "('santosh_padam', 1)\n",
      "('sarthak_padam', 1)\n",
      "('shiv_padam', 1)\n",
      "('abhay_shav', 2)\n",
      "('ameya_shav', 2)\n",
      "('bhumi_shav', 2)\n",
      "('deepa_shava', 2)\n",
      "('dristi_shav', 2)\n",
      "('harshav_shav', 2)\n",
      "('kaustuk_shav', 2)\n",
      "('lakshmi_shav', 2)\n",
      "('piyush_shav', 2)\n",
      "('pranshul_shav', 2)\n",
      "('rakesh_shav', 2)\n",
      "('santosh_shav', 2)\n",
      "('sathak_shav', 2)\n",
      "('shiva_shav', 2)\n",
      "('veena_shav', 2)\n",
      "('abhay_tada', 3)\n",
      "('ameya_tada', 3)\n",
      "('bhumi_tad', 3)\n",
      "('deepa_tada', 3)\n",
      "('dristi_tada', 3)\n",
      "('harshav_tada', 3)\n",
      "('kaustuk_tada', 3)\n",
      "('lakshmi_tada', 3)\n",
      "('piyush_tada', 3)\n",
      "('pranshul_tada', 3)\n",
      "('rakesh_tada', 3)\n",
      "('santosh_tada', 3)\n",
      "('sarthak_tada', 3)\n",
      "('shiva_tada', 3)\n",
      "('test', 3)\n",
      "('train', 3)\n",
      "('veena_padma', 3)\n",
      "('veena_tada', 3)\n",
      "('abhay_trik', 4)\n",
      "('ameya_trik', 4)\n",
      "('bhumi_trik', 4)\n",
      "('deepa_trik', 4)\n",
      "('dristi_trik', 4)\n",
      "('harshav_trik', 4)\n",
      "('kaustuk_trik', 4)\n",
      "('piyush_trik', 4)\n",
      "('pranshul_trik', 4)\n",
      "('rakesh_trik', 4)\n",
      "('santosh_trik', 4)\n",
      "('sarthak_trik', 4)\n",
      "('shiva_trik', 4)\n",
      "('abhay_vriksh', 5)\n",
      "('ameya_vriksh', 5)\n",
      "('bhumi_vriksh', 5)\n",
      "('deepa_vriksh', 5)\n",
      "('dristi_vriksh', 5)\n",
      "('harshav_vriksh', 5)\n",
      "('kaustuk_vriksh', 5)\n",
      "('lakshmi_vriksh', 5)\n",
      "('piyush_vriksh', 5)\n",
      "('pranshul_vriksh', 5)\n",
      "('rakesh_vriksh', 5)\n",
      "('santosh_vriksh', 5)\n",
      "('sarthak_vriksh', 5)\n",
      "('shiva_vriksh', 5)\n",
      "('veena_vriksh', 5)\n"
     ]
    }
   ],
   "source": [
    "train_list = []\n",
    "\n",
    "for name in class_list:\n",
    "    for image in os.listdir(f\"dataset/{name}\"):\n",
    "        print((image, class_list.index(name)))"
   ]
  },
  {
   "cell_type": "code",
   "execution_count": null,
   "metadata": {},
   "outputs": [],
   "source": []
  }
 ],
 "metadata": {
  "kernelspec": {
   "display_name": "Python 3",
   "language": "python",
   "name": "python3"
  },
  "language_info": {
   "codemirror_mode": {
    "name": "ipython",
    "version": 3
   },
   "file_extension": ".py",
   "mimetype": "text/x-python",
   "name": "python",
   "nbconvert_exporter": "python",
   "pygments_lexer": "ipython3",
   "version": "3.8.6rc1"
  }
 },
 "nbformat": 4,
 "nbformat_minor": 4
}
