{
 "cells": [
  {
   "cell_type": "code",
   "execution_count": 9,
   "metadata": {},
   "outputs": [],
   "source": [
    "import cv2\n",
    "import tensorflow as tf\n",
    "import tensorflow_hub as hub\n",
    "from tensorflow_docs.vis import embed\n",
    "import numpy as np\n",
    "import pandas as pd\n",
    "import csv\n",
    "\n",
    "# Import matplotlib libraries\n",
    "from matplotlib import pyplot as plt"
   ]
  },
  {
   "cell_type": "code",
   "execution_count": 13,
   "metadata": {},
   "outputs": [
    {
     "name": "stdout",
     "output_type": "stream",
     "text": [
      "['testing\\\\shweta_tada.mp4']\n"
     ]
    }
   ],
   "source": [
    "import os\n",
    "import numpy as np\n",
    "import cv2\n",
    "from glob import glob\n",
    "\n",
    "def create_dir(path):\n",
    "    try:\n",
    "        if not os.path.exists(path):\n",
    "            os.makedirs(path)\n",
    "    except OSError:\n",
    "        print(f\"ERROR: creating directory with name {path}\")\n",
    "def save_frame(video_path, gap=30):\n",
    "    \n",
    "    save_path=\"frames\"\n",
    "    create_dir(save_path)\n",
    "#     print(\"yes\")\n",
    "\n",
    "    cap = cv2.VideoCapture(video_path)\n",
    "#     print(\"yes again\")\n",
    "    #fps = cap.get( cv2.CAP_PROP_FPS ) \n",
    "    #print(fps)\n",
    "    idx = 0\n",
    "\n",
    "    while True:\n",
    "        ret, frame = cap.read()\n",
    "\n",
    "        if ret == False:\n",
    "            cap.release()\n",
    "            break\n",
    "\n",
    "        if (idx>=15 and (idx-gap//2) % gap == 0):\n",
    "            #image=img_crop(frame)\n",
    "            cv2.imwrite(f\"{save_path}/{idx}.png\", frame)\n",
    "\n",
    "        idx += 1\n",
    "if __name__ == \"__main__\":\n",
    "    video_paths = glob(\"testing/*\")\n",
    "    print(video_paths)\n",
    "#     save_dir = \"geet_dataset2/train/\"\n",
    "    for path in video_paths:\n",
    "        save_frame(path, gap=60)\n",
    "    "
   ]
  },
  {
   "cell_type": "code",
   "execution_count": 14,
   "metadata": {},
   "outputs": [],
   "source": [
    "def image_to_movenet(path):\n",
    "    image_path =path\n",
    "    image = tf.io.read_file(image_path)\n",
    "    image = tf.compat.v1.image.decode_jpeg(image)\n",
    "    image = tf.expand_dims(image, axis=0)\n",
    "    # Resize and pad the image to keep the aspect ratio and fit the expected size.\n",
    "    image = tf.cast(tf.image.resize_with_pad(image, 192, 192), dtype=tf.int32)\n",
    "\n",
    "    # Download the model from TF Hub.\n",
    "    model = hub.load(\"https://tfhub.dev/google/movenet/singlepose/lightning/4\")\n",
    "    movenet = model.signatures['serving_default']\n",
    "\n",
    "    # Run model inference.\n",
    "    outputs = movenet(image)\n",
    "# Output is a [1, 1, 17, 3] tensor.\n",
    "    keypoints = outputs['output_0']\n",
    "    kpts_x = keypoints[0, 0, :, 0]\n",
    "    kpts_y = keypoints[0, 0, :, 1]\n",
    "    kpts_scores = keypoints[0, 0, :, 2]\n",
    "    \n",
    "    \n",
    "    \n",
    "\n",
    "     # Empty dataset\n",
    "    t_x=kpts_x.numpy()\n",
    "    t_y=kpts_y.numpy()\n",
    "    \n",
    "    tn=[]\n",
    "   \n",
    "    for i in range(0,17):\n",
    "        tn.append(t_x[i])\n",
    "        tn.append(t_y[i])\n",
    "    return tn"
   ]
  },
  {
   "cell_type": "code",
   "execution_count": 15,
   "metadata": {},
   "outputs": [
    {
     "name": "stdout",
     "output_type": "stream",
     "text": [
      "E:\\BE\\FinalYearProjectDetails\\Yoga_Class-Analysis\\frames\\30.png\n",
      "E:\\BE\\FinalYearProjectDetails\\Yoga_Class-Analysis\\frames\\90.png\n",
      "E:\\BE\\FinalYearProjectDetails\\Yoga_Class-Analysis\\frames\\150.png\n",
      "E:\\BE\\FinalYearProjectDetails\\Yoga_Class-Analysis\\frames\\210.png\n",
      "E:\\BE\\FinalYearProjectDetails\\Yoga_Class-Analysis\\frames\\270.png\n",
      "E:\\BE\\FinalYearProjectDetails\\Yoga_Class-Analysis\\frames\\330.png\n",
      "E:\\BE\\FinalYearProjectDetails\\Yoga_Class-Analysis\\frames\\390.png\n",
      "E:\\BE\\FinalYearProjectDetails\\Yoga_Class-Analysis\\frames\\450.png\n",
      "E:\\BE\\FinalYearProjectDetails\\Yoga_Class-Analysis\\frames\\510.png\n",
      "E:\\BE\\FinalYearProjectDetails\\Yoga_Class-Analysis\\frames\\570.png\n",
      "E:\\BE\\FinalYearProjectDetails\\Yoga_Class-Analysis\\frames\\630.png\n",
      "E:\\BE\\FinalYearProjectDetails\\Yoga_Class-Analysis\\frames\\690.png\n",
      "E:\\BE\\FinalYearProjectDetails\\Yoga_Class-Analysis\\frames\\750.png\n",
      "E:\\BE\\FinalYearProjectDetails\\Yoga_Class-Analysis\\frames\\810.png\n",
      "E:\\BE\\FinalYearProjectDetails\\Yoga_Class-Analysis\\frames\\870.png\n",
      "E:\\BE\\FinalYearProjectDetails\\Yoga_Class-Analysis\\frames\\930.png\n",
      "E:\\BE\\FinalYearProjectDetails\\Yoga_Class-Analysis\\frames\\990.png\n",
      "E:\\BE\\FinalYearProjectDetails\\Yoga_Class-Analysis\\frames\\1050.png\n",
      "E:\\BE\\FinalYearProjectDetails\\Yoga_Class-Analysis\\frames\\1110.png\n",
      "E:\\BE\\FinalYearProjectDetails\\Yoga_Class-Analysis\\frames\\1170.png\n"
     ]
    }
   ],
   "source": [
    "import os\n",
    "import time\n",
    "from collections import defaultdict\n",
    "\n",
    "path_lst=[]\n",
    "\n",
    "keypts_inner_test=[]\n",
    "keypts_outer_test=[]\n",
    "\n",
    "\n",
    "\n",
    "for image in os.listdir('frames'):\n",
    "    path_lst.append(os.path.abspath(f\"frames/{image}\"))\n",
    "        \n",
    "        #path_lst_per.append(path_lst)\n",
    "        #image_path_dictionary[name] = path_list\n",
    "              \n",
    "path_lst = sorted(path_lst,key=os.path.getmtime)\n",
    "\n",
    "for path in path_lst:\n",
    "    print(path)\n",
    "    keypts_inner_test=image_to_movenet(path)\n",
    "    keypts_outer_test.append(keypts_inner_test)"
   ]
  },
  {
   "cell_type": "code",
   "execution_count": 16,
   "metadata": {},
   "outputs": [
    {
     "name": "stdout",
     "output_type": "stream",
     "text": [
      "[[0.36516535, 0.510299, 0.3591056, 0.5173665, 0.35826513, 0.5030399, 0.3665129, 0.5220829, 0.36479408, 0.48442668, 0.40004417, 0.53403366, 0.39519566, 0.47149193, 0.37691757, 0.5898265, 0.38156915, 0.4729913, 0.3576067, 0.60177267, 0.3601923, 0.4888372, 0.57576174, 0.51673985, 0.56324315, 0.47584605, 0.6600402, 0.5101857, 0.6619969, 0.49179456, 0.70034957, 0.5185188, 0.7085961, 0.50452405], [0.36048108, 0.5179356, 0.35681528, 0.52009165, 0.35425025, 0.50797796, 0.36108524, 0.5237689, 0.35933226, 0.49573562, 0.39317054, 0.5391924, 0.39397287, 0.4695769, 0.39933246, 0.58718383, 0.40331396, 0.44707036, 0.3757356, 0.5123966, 0.3697641, 0.4892506, 0.5382339, 0.5197768, 0.5391886, 0.4745986, 0.65716374, 0.5223266, 0.66162235, 0.4891859, 0.70004237, 0.5437654, 0.71277297, 0.49504983], [0.3679015, 0.5135282, 0.36263034, 0.5123708, 0.36258644, 0.5048727, 0.37154734, 0.51231766, 0.37207192, 0.49259567, 0.41139907, 0.5368731, 0.40878415, 0.47104833, 0.3915683, 0.5454658, 0.38612625, 0.47566736, 0.35102233, 0.49594438, 0.35156667, 0.49044403, 0.5986199, 0.5222953, 0.6003814, 0.480121, 0.69794035, 0.51700264, 0.7070544, 0.48437163, 0.6992748, 0.5654402, 0.7142059, 0.5041942], [0.3683686, 0.51684064, 0.35688314, 0.5183485, 0.35673285, 0.50596696, 0.36779985, 0.52212656, 0.3671169, 0.48992857, 0.40571746, 0.52209306, 0.40391767, 0.48755425, 0.29891717, 0.5067518, 0.30376962, 0.4813993, 0.23885229, 0.4955309, 0.23901026, 0.4887421, 0.59921014, 0.50163275, 0.5985554, 0.49591893, 0.71230495, 0.5026207, 0.7066077, 0.49612397, 0.71170485, 0.5094578, 0.71458507, 0.506398], [0.34967244, 0.5031347, 0.34073263, 0.5139676, 0.34044716, 0.49625096, 0.35144794, 0.5227861, 0.34834263, 0.48279464, 0.38297135, 0.52855337, 0.3860913, 0.48024902, 0.30591893, 0.5150338, 0.304273, 0.46796876, 0.22288994, 0.50434846, 0.21961087, 0.48685503, 0.548539, 0.51881087, 0.5477623, 0.48161936, 0.6672556, 0.51509905, 0.66103727, 0.48306674, 0.7030718, 0.53420526, 0.70836276, 0.4886677], [0.34944007, 0.5064211, 0.33795965, 0.5159693, 0.33818576, 0.495911, 0.34932682, 0.5235847, 0.3458056, 0.4868701, 0.37670732, 0.5292462, 0.37764686, 0.4786894, 0.3051082, 0.527366, 0.30493975, 0.48462984, 0.22011924, 0.50947917, 0.21935366, 0.4879753, 0.5375598, 0.5165398, 0.5379025, 0.4855286, 0.6680423, 0.51387227, 0.66596794, 0.48154128, 0.7068678, 0.5348613, 0.71398854, 0.49385983], [0.3475616, 0.5020958, 0.33592877, 0.5128744, 0.33563626, 0.49540815, 0.34845412, 0.5242562, 0.3452074, 0.4818028, 0.38052198, 0.53298116, 0.384701, 0.47728628, 0.29932377, 0.52989316, 0.30106068, 0.4751867, 0.2180089, 0.5034307, 0.21415496, 0.48699677, 0.54828715, 0.5207921, 0.54921293, 0.48283237, 0.6806049, 0.52300763, 0.6760005, 0.48824954, 0.70544, 0.5341505, 0.71626616, 0.50048447], [0.35662603, 0.49353182, 0.34477276, 0.5038729, 0.34599072, 0.4853564, 0.3545116, 0.5151456, 0.352861, 0.47608483, 0.38144416, 0.526657, 0.3897019, 0.4657591, 0.3106194, 0.52196664, 0.3074757, 0.4698527, 0.22095601, 0.50373495, 0.21494213, 0.47795904, 0.52633995, 0.51848733, 0.52701986, 0.4718768, 0.64027727, 0.52359957, 0.63560903, 0.46720827, 0.70496863, 0.53521, 0.7128398, 0.47339112], [0.36803278, 0.49533793, 0.35555452, 0.5015992, 0.35718006, 0.48498186, 0.36539468, 0.51737404, 0.3662783, 0.47341293, 0.39420053, 0.52122843, 0.402512, 0.46528047, 0.3172271, 0.5142298, 0.31930155, 0.47355136, 0.23596895, 0.50483584, 0.23398066, 0.4892977, 0.5473058, 0.51524675, 0.54880524, 0.47363076, 0.6807241, 0.5149993, 0.6629583, 0.47249374, 0.71766675, 0.52258193, 0.7205352, 0.48160765], [0.36776096, 0.49687624, 0.35353863, 0.50224435, 0.35438848, 0.48866782, 0.36024687, 0.51495665, 0.36030447, 0.47645986, 0.39209688, 0.5112445, 0.39652225, 0.47688258, 0.31288725, 0.51247066, 0.31471694, 0.48955387, 0.23299453, 0.49854442, 0.2322524, 0.49041066, 0.5567655, 0.5023707, 0.5573102, 0.48099372, 0.68222857, 0.5067189, 0.6628876, 0.47565743, 0.71865, 0.50264883, 0.7195929, 0.4797301], [0.36778617, 0.49563298, 0.35610658, 0.5042902, 0.35642776, 0.4856211, 0.36455256, 0.52020985, 0.36283502, 0.47540665, 0.39376184, 0.526196, 0.39942527, 0.4616799, 0.3186169, 0.51948714, 0.308129, 0.46786055, 0.23375237, 0.50157607, 0.23354308, 0.4784925, 0.5569159, 0.5133816, 0.5538815, 0.46005353, 0.6884663, 0.5086279, 0.66741484, 0.4609054, 0.72050685, 0.50295407, 0.7240894, 0.47075975], [0.37079248, 0.4927926, 0.3623663, 0.49707144, 0.36216778, 0.4804213, 0.3732692, 0.5077096, 0.3714056, 0.47102743, 0.4031284, 0.52124304, 0.40581274, 0.45986056, 0.31897664, 0.5126319, 0.31058705, 0.46567577, 0.24110888, 0.4999499, 0.23824868, 0.47945344, 0.5536361, 0.51093245, 0.553939, 0.46538162, 0.6875791, 0.5054156, 0.66904277, 0.4637274, 0.72293204, 0.49922746, 0.7219198, 0.4767397], [0.3725176, 0.49444103, 0.36305997, 0.49889573, 0.36368367, 0.48062, 0.37541533, 0.51321787, 0.37407526, 0.47101122, 0.4053887, 0.51744384, 0.41444635, 0.45893884, 0.32791972, 0.50988454, 0.31713623, 0.461622, 0.24410003, 0.50061184, 0.24836634, 0.47265503, 0.5546949, 0.510018, 0.5542247, 0.4567876, 0.68029416, 0.5056962, 0.659931, 0.46007738, 0.73248935, 0.5059094, 0.7298995, 0.46336943], [0.3761197, 0.49656385, 0.36643124, 0.5011139, 0.3653104, 0.4830366, 0.37951428, 0.51346153, 0.37529236, 0.47171527, 0.40879178, 0.51217085, 0.41194147, 0.45824838, 0.3194606, 0.5084815, 0.31682324, 0.4600671, 0.24579665, 0.4958095, 0.24772756, 0.47517833, 0.5598494, 0.5076286, 0.55581295, 0.4582764, 0.68408644, 0.50061655, 0.6656883, 0.46258587, 0.72627515, 0.50208235, 0.7262137, 0.46349764], [0.3754953, 0.48735356, 0.36587143, 0.4977356, 0.36549515, 0.47694263, 0.37617636, 0.50936735, 0.37451681, 0.46582612, 0.41038585, 0.5202098, 0.41105765, 0.45517582, 0.3182879, 0.5086256, 0.32456383, 0.4512406, 0.24348983, 0.49948972, 0.24356836, 0.46297473, 0.54799587, 0.50243783, 0.5444291, 0.45330542, 0.6803801, 0.4992327, 0.65959984, 0.45277876, 0.7367873, 0.49426568, 0.7352334, 0.45630848], [0.3716944, 0.49137568, 0.3634416, 0.4966247, 0.36386412, 0.47869653, 0.3768183, 0.51316684, 0.37514326, 0.46823463, 0.4120644, 0.5182529, 0.41199076, 0.45679423, 0.323982, 0.51666504, 0.32240975, 0.45846915, 0.24403065, 0.4989277, 0.24569784, 0.46592182, 0.5542488, 0.50895643, 0.55135846, 0.4552811, 0.6826142, 0.5091151, 0.66699576, 0.4602033, 0.7306847, 0.49814552, 0.7291137, 0.4570287], [0.37308308, 0.48396915, 0.36553833, 0.49535698, 0.36390573, 0.4768443, 0.37931487, 0.503783, 0.37682372, 0.46103746, 0.41324317, 0.5183109, 0.4126395, 0.4545564, 0.3283548, 0.5109084, 0.3276955, 0.45318887, 0.25663802, 0.49770555, 0.2543603, 0.4735362, 0.5565989, 0.50409913, 0.551653, 0.4543169, 0.6791472, 0.50500226, 0.661325, 0.4618473, 0.7265909, 0.5024537, 0.7279277, 0.4582358], [0.3749988, 0.4854409, 0.36700255, 0.4967352, 0.36605346, 0.47621852, 0.37984586, 0.5037793, 0.37682247, 0.4619177, 0.40866327, 0.51478225, 0.41063187, 0.45658576, 0.332852, 0.5148642, 0.32898235, 0.45916623, 0.26013356, 0.4967394, 0.25716427, 0.4738441, 0.5561167, 0.5013, 0.5524962, 0.45403513, 0.66905785, 0.49604425, 0.6627124, 0.46215424, 0.7303091, 0.49174362, 0.7318806, 0.45943552], [0.37845755, 0.48607403, 0.36853302, 0.49713868, 0.3677038, 0.4764498, 0.37971288, 0.50197303, 0.37796962, 0.45951042, 0.40375483, 0.5022236, 0.4073658, 0.4551128, 0.31827876, 0.50657463, 0.32019854, 0.45553696, 0.25781286, 0.48629376, 0.25705168, 0.47482106, 0.5616495, 0.49921227, 0.5578486, 0.45806846, 0.6770036, 0.49493396, 0.672723, 0.4651916, 0.7257627, 0.48745975, 0.7304158, 0.46603066], [0.37196153, 0.48725685, 0.36264992, 0.49786577, 0.3625211, 0.47587416, 0.37165093, 0.5106963, 0.37097394, 0.46388134, 0.4101466, 0.5204493, 0.40745944, 0.4512788, 0.3157995, 0.5125609, 0.30714738, 0.4537222, 0.23637879, 0.49993962, 0.23718792, 0.46668398, 0.548716, 0.5022824, 0.54593277, 0.4560233, 0.6636082, 0.4971964, 0.6553778, 0.45979553, 0.7342188, 0.49334854, 0.73454154, 0.4554517]]\n"
     ]
    }
   ],
   "source": [
    "print(keypts_outer_test)"
   ]
  },
  {
   "cell_type": "code",
   "execution_count": 5,
   "metadata": {},
   "outputs": [],
   "source": [
    "from keras.layers import Masking\n",
    "def padding_masking(x_test):\n",
    "    testing=[]\n",
    "    for i in range(0,1):\n",
    "        result = np.zeros((77, 34))\n",
    "        result[:np.array(x_test[0]).shape[0],:np.array(x_test[0]).shape[0]]=x_test[0]\n",
    "        testing.append(result)\n",
    "    x_test=tf.convert_to_tensor(testing,dtype='float32')\n",
    "    mask_layer=Masking(mask_value=0.0)\n",
    "    x_test=mask_layer(x_test)\n",
    "    return x_test"
   ]
  },
  {
   "cell_type": "code",
   "execution_count": 6,
   "metadata": {},
   "outputs": [],
   "source": [
    "x_test=keypts_outer_test\n",
    "x_test=np.array(x_test)\n",
    "x_test.shape[0]\n",
    "x_test=padding_masking(x_test)"
   ]
  },
  {
   "cell_type": "code",
   "execution_count": 7,
   "metadata": {},
   "outputs": [
    {
     "name": "stdout",
     "output_type": "stream",
     "text": [
      "(1, 77, 34)\n"
     ]
    }
   ],
   "source": [
    "print(x_test.shape)"
   ]
  },
  {
   "cell_type": "markdown",
   "metadata": {},
   "source": [
    "load model\n"
   ]
  },
  {
   "cell_type": "code",
   "execution_count": 8,
   "metadata": {},
   "outputs": [
    {
     "name": "stdout",
     "output_type": "stream",
     "text": [
      "[[-1.8409986 -2.3676567 -4.030723   8.806839  -2.0770743  2.2384768]]\n"
     ]
    },
    {
     "name": "stderr",
     "output_type": "stream",
     "text": [
      "Giving up send_request(...) after 11 tries (requests.exceptions.SSLError: HTTPSConnectionPool(host='api.segment.io', port=443): Max retries exceeded with url: /v1/batch (Caused by SSLError(SSLCertVerificationError(1, '[SSL: CERTIFICATE_VERIFY_FAILED] certificate verify failed: unable to get local issuer certificate (_ssl.c:1124)'))))\n",
      "error uploading: HTTPSConnectionPool(host='api.segment.io', port=443): Max retries exceeded with url: /v1/batch (Caused by SSLError(SSLCertVerificationError(1, '[SSL: CERTIFICATE_VERIFY_FAILED] certificate verify failed: unable to get local issuer certificate (_ssl.c:1124)')))\n"
     ]
    }
   ],
   "source": [
    "from tensorflow import keras\n",
    "from keras.layers import Bidirectional\n",
    "from keras.layers import LSTM\n",
    "# It can be used to reconstruct the model identically.\n",
    "model = keras.models.load_model(\"savemodel.h5\")\n",
    "\n",
    "# Let's check:\n",
    "# np.testing.assert_allclose(\n",
    "#     model.predict(test_input), reconstructed_model.predict(test_input)\n",
    "# )\n",
    "\n",
    "# The reconstructed model is already compiled and has retained the optimizer\n",
    "# state, so training can resume:\n",
    "\n",
    "y_pred = model.predict(x_test)\n",
    "print(y_pred)"
   ]
  },
  {
   "cell_type": "code",
   "execution_count": null,
   "metadata": {},
   "outputs": [],
   "source": []
  },
  {
   "cell_type": "code",
   "execution_count": null,
   "metadata": {},
   "outputs": [],
   "source": []
  }
 ],
 "metadata": {
  "kernelspec": {
   "display_name": "Python 3",
   "language": "python",
   "name": "python3"
  },
  "language_info": {
   "codemirror_mode": {
    "name": "ipython",
    "version": 3
   },
   "file_extension": ".py",
   "mimetype": "text/x-python",
   "name": "python",
   "nbconvert_exporter": "python",
   "pygments_lexer": "ipython3",
   "version": "3.8.6rc1"
  }
 },
 "nbformat": 4,
 "nbformat_minor": 5
}
