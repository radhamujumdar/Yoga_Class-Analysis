{
 "cells": [
  {
   "cell_type": "code",
   "execution_count": 2,
   "id": "78aabb17",
   "metadata": {},
   "outputs": [
    {
     "ename": "ModuleNotFoundError",
     "evalue": "No module named 'posemodule'",
     "output_type": "error",
     "traceback": [
      "\u001b[1;31m---------------------------------------------------------------------------\u001b[0m",
      "\u001b[1;31mModuleNotFoundError\u001b[0m                       Traceback (most recent call last)",
      "\u001b[1;32m<ipython-input-2-16f4f50ef637>\u001b[0m in \u001b[0;36m<module>\u001b[1;34m\u001b[0m\n\u001b[0;32m      2\u001b[0m \u001b[1;32mimport\u001b[0m \u001b[0mnumpy\u001b[0m \u001b[1;32mas\u001b[0m \u001b[0mnp\u001b[0m\u001b[1;33m\u001b[0m\u001b[1;33m\u001b[0m\u001b[0m\n\u001b[0;32m      3\u001b[0m \u001b[1;32mimport\u001b[0m \u001b[0mtime\u001b[0m\u001b[1;33m\u001b[0m\u001b[1;33m\u001b[0m\u001b[0m\n\u001b[1;32m----> 4\u001b[1;33m \u001b[1;32mfrom\u001b[0m \u001b[0mposemodule\u001b[0m \u001b[1;32mimport\u001b[0m \u001b[0mfindPose\u001b[0m\u001b[1;33m\u001b[0m\u001b[1;33m\u001b[0m\u001b[0m\n\u001b[0m\u001b[0;32m      5\u001b[0m \u001b[1;32mfrom\u001b[0m \u001b[0mposemodule\u001b[0m \u001b[1;32mimport\u001b[0m \u001b[0mfindPosition\u001b[0m\u001b[1;33m\u001b[0m\u001b[1;33m\u001b[0m\u001b[0m\n\u001b[0;32m      6\u001b[0m \u001b[1;32mfrom\u001b[0m \u001b[0mposemodule\u001b[0m \u001b[1;32mimport\u001b[0m \u001b[0mfindAngle\u001b[0m\u001b[1;33m\u001b[0m\u001b[1;33m\u001b[0m\u001b[0m\n",
      "\u001b[1;31mModuleNotFoundError\u001b[0m: No module named 'posemodule'"
     ]
    }
   ],
   "source": [
    "import cv2\n",
    "import numpy as np\n",
    "import time\n",
    "from posemodule import findPose\n",
    "from posemodule import findPosition\n",
    "from posemodule import findAngle\n",
    " \n",
    "# cap = cv2.VideoCapture(\"AiTrainer/curls.mp4\")\n",
    " \n",
    "detector = pm.poseDetector()\n",
    "\n",
    "#     success, img = cap.read()\n",
    "#     img = cv2.resize(img, (1280, 720))\n",
    "img = cv2.imread(\"ang_img.png\")\n",
    "img = detector.findPose(img, False)\n",
    "lmList = detector.findPosition(img, False)\n",
    "    # print(lmList)\n",
    "if len(lmList) != 0:\n",
    "        # Bhuj\n",
    "    angle = detector.findAngle(img, 12, 24, 26)\n",
    "        \n",
    "        \n",
    "   \n",
    "cv2.imshow(\"Image\", img)\n",
    "cv2.waitKey(1)"
   ]
  },
  {
   "cell_type": "code",
   "execution_count": null,
   "id": "ebb67deb",
   "metadata": {},
   "outputs": [],
   "source": []
  }
 ],
 "metadata": {
  "kernelspec": {
   "display_name": "Python 3",
   "language": "python",
   "name": "python3"
  },
  "language_info": {
   "codemirror_mode": {
    "name": "ipython",
    "version": 3
   },
   "file_extension": ".py",
   "mimetype": "text/x-python",
   "name": "python",
   "nbconvert_exporter": "python",
   "pygments_lexer": "ipython3",
   "version": "3.9.5"
  }
 },
 "nbformat": 4,
 "nbformat_minor": 5
}
